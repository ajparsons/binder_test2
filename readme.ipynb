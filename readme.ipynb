{
 "metadata": {
  "language_info": {
   "codemirror_mode": {
    "name": "ipython",
    "version": 3
   },
   "file_extension": ".py",
   "mimetype": "text/x-python",
   "name": "python",
   "nbconvert_exporter": "python",
   "pygments_lexer": "ipython3",
   "version": "3.8.8-final"
  },
  "orig_nbformat": 2,
  "kernelspec": {
   "name": "python3",
   "display_name": "Python 3.8.8 64-bit",
   "metadata": {
    "interpreter": {
     "hash": "4cd7ab41f5fca4b9b44701077e38c5ffd31fe66a6cab21e0214b68d958d0e462"
    }
   }
  }
 },
 "nbformat": 4,
 "nbformat_minor": 2,
 "cells": [
  {
   "cell_type": "code",
   "execution_count": 1,
   "metadata": {},
   "outputs": [],
   "source": [
    "#HIDE\n",
    "from notebook_helper import *"
   ]
  },
  {
   "source": [
    "# Template mySociety Jupyter notebook\n",
    "\n",
    "Template with submodule for helper functions, and dockerfile to set chrome up correctly for charts. \n",
    "\n",
    "This is useful for when the readme should include some analysis of files elsewhere in the repo and you don't want to copy and paste. \n",
    "\n",
    "`readme.ipynb` can be set up as a notebook, which then renders itself to `readme.md`. \n",
    "\n",
    "Example of this approach: https://github.com/mysociety/composite_uk_imd\n",
    "\n",
    "\n",
    "## How to use\n",
    "\n",
    "Should just work in VSCode, be careful if you start storing config in `devcontainer.json` as currently not excluded from git.\n",
    "\n",
    "pandas and altair are automatically loaded as `pd` and `alt`. The mysociety theme is already initalised. \n",
    "\n",
    "Examples below show basic usage.\n",
    "\n",
    "By default `render_to_markdown` will not print the input box (so code can be hidden). Add `include_input=True` as below to include it.\n",
    "\n",
    "The chrome reference can be removed from the dockerfile if not doing any chart rendering. Currently the blank requirements.txt is not referenced in the dockerfile to avoid a layer, you'll need to add that if adding more requirements to the notebook.\n"
   ],
   "cell_type": "markdown",
   "metadata": {}
  },
  {
   "source": [
    "# Example code\n",
    "\n",
    "Start the notebook by pulling in the general set of helpers. Start the codeblock with `#HIDE` to exclude it from being displayed in render (example at top of `readme.ipynb`)."
   ],
   "cell_type": "markdown",
   "metadata": {}
  },
  {
   "source": [
    "from notebook_helper import *"
   ],
   "cell_type": "code",
   "metadata": {},
   "execution_count": 2,
   "outputs": []
  },
  {
   "source": [
    "## Example table\n",
    "\n",
    "This shows a table being rendered as markdown"
   ],
   "cell_type": "markdown",
   "metadata": {}
  },
  {
   "cell_type": "code",
   "execution_count": 3,
   "metadata": {},
   "outputs": [
    {
     "output_type": "stream",
     "name": "stdout",
     "text": [
      "| Vertical   |   Horizontal |   double_h |\n|------------|--------------|------------|\n| A          |           28 |         56 |\n| B          |           55 |        110 |\n| C          |           43 |         86 |\n| D          |           91 |        182 |\n| E          |           81 |        162 |\n| F          |           53 |        106 |\n| G          |           19 |         38 |\n| H          |           87 |        174 |\n| I          |           52 |        104 |\n"
     ]
    }
   ],
   "source": [
    "source = pd.DataFrame({\n",
    "    'Vertical': ['A', 'B', 'C', 'D', 'E', 'F', 'G', 'H', 'I'],\n",
    "    'Horizontal': [28, 55, 43, 91, 81, 53, 19, 87, 52]\n",
    "})\n",
    "\n",
    "source[\"double_h\"] = source[\"Horizontal\"] * 2\n",
    "\n",
    "markdown_table(source)"
   ]
  },
  {
   "source": [
    "You can just render as HTML with `display(source)` but github markdown doesn't like the styling that gets attached to this. "
   ],
   "cell_type": "markdown",
   "metadata": {}
  },
  {
   "source": [
    "# Example chart"
   ],
   "cell_type": "markdown",
   "metadata": {}
  },
  {
   "cell_type": "code",
   "execution_count": 4,
   "metadata": {},
   "outputs": [
    {
     "output_type": "execute_result",
     "data": {
      "image/png": "[encoded data removed]",
      "text/plain": [
       "alt.Chart(...)"
      ]
     },
     "metadata": {},
     "execution_count": 4
    }
   ],
   "source": [
    "alt.Chart(source).mark_bar().encode(\n",
    "    y='Vertical',\n",
    "    x='Horizontal'\n",
    ").properties(title=\"This is an example chart, with the right fonts\")"
   ]
  },
  {
   "cell_type": "code",
   "execution_count": null,
   "metadata": {},
   "outputs": [],
   "source": []
  },
  {
   "cell_type": "code",
   "execution_count": 2,
   "metadata": {},
   "outputs": [
    {
     "output_type": "stream",
     "name": "stdout",
     "text": [
      "writing: _notebook_resources/readme_8_0.png\nWritten to readme.md at 2021-03-16 14:43:28.029750\n"
     ]
    },
    {
     "output_type": "error",
     "ename": "NameError",
     "evalue": "name 'sender_to_html' is not defined",
     "traceback": [
      "\u001b[0;31m---------------------------------------------------------------------------\u001b[0m",
      "\u001b[0;31mNameError\u001b[0m                                 Traceback (most recent call last)",
      "\u001b[0;32m<ipython-input-2-7632c80e1c72>\u001b[0m in \u001b[0;36m<module>\u001b[0;34m\u001b[0m\n\u001b[1;32m      3\u001b[0m \u001b[0;32mfrom\u001b[0m \u001b[0mnotebook_helper\u001b[0m \u001b[0;32mimport\u001b[0m \u001b[0;34m*\u001b[0m\u001b[0;34m\u001b[0m\u001b[0;34m\u001b[0m\u001b[0m\n\u001b[1;32m      4\u001b[0m \u001b[0mrender_to_markdown\u001b[0m\u001b[0;34m(\u001b[0m\u001b[0minclude_input\u001b[0m\u001b[0;34m=\u001b[0m\u001b[0;32mTrue\u001b[0m\u001b[0;34m)\u001b[0m\u001b[0;34m\u001b[0m\u001b[0;34m\u001b[0m\u001b[0m\n\u001b[0;32m----> 5\u001b[0;31m \u001b[0msender_to_html\u001b[0m\u001b[0;34m(\u001b[0m\u001b[0;34m)\u001b[0m\u001b[0;34m\u001b[0m\u001b[0;34m\u001b[0m\u001b[0m\n\u001b[0m",
      "\u001b[0;31mNameError\u001b[0m: name 'sender_to_html' is not defined"
     ]
    }
   ],
   "source": [
    "#This is how we get a notebook to render itself\n",
    "#runs based on file rather than current content, so remember to save first.\n",
    "from notebook_helper import *\n",
    "render_to_markdown(include_input=True)\n",
    "render_to_html()"
   ]
  },
  {
   "cell_type": "code",
   "execution_count": null,
   "metadata": {},
   "outputs": [],
   "source": []
  }
 ]
}